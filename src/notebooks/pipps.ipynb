{
 "cells": [
  {
   "cell_type": "code",
   "execution_count": 1,
   "id": "a70db10c",
   "metadata": {},
   "outputs": [],
   "source": [
    "import json\n",
    "import re\n",
    "import pathlib\n",
    "import csv\n",
    "\n",
    "from minicons import scorer\n",
    "from tqdm import tqdm"
   ]
  },
  {
   "cell_type": "code",
   "execution_count": 2,
   "id": "9041720a",
   "metadata": {},
   "outputs": [],
   "source": [
    "# read jsonl\n",
    "def read_jsonl(path):\n",
    "    with open(path) as f:\n",
    "        data = f.readlines()\n",
    "    data = [json.loads(line) for line in data]\n",
    "    return data\n",
    "\n",
    "def find_and_split(sentence, target):\n",
    "    if target == \".\":\n",
    "        search_query = \"\\.\"\n",
    "    else:\n",
    "        search_query = target\n",
    "    search_results = list(re.finditer(search_query, sentence))[-1].span()\n",
    "    return sentence[:search_results[0]].strip(), target\n",
    "\n",
    "pipps = read_jsonl('../../data/pipps/materials.jsonl')"
   ]
  },
  {
   "cell_type": "code",
   "execution_count": 3,
   "id": "0e21889d",
   "metadata": {},
   "outputs": [
    {
     "data": {
      "text/plain": [
       "'gpt2-large'"
      ]
     },
     "execution_count": 3,
     "metadata": {},
     "output_type": "execute_result"
    }
   ],
   "source": [
    "# model_name = \"kanishka/smolm-autoreg-bpe-babylm-1e-3\"\n",
    "model_name = \"gpt2-large\"\n",
    "\n",
    "lm = scorer.IncrementalLMScorer(model_name, \"cuda:3\")\n",
    "\n",
    "model_name = (\n",
    "        model_name.replace(\"../smolm/models/\", \"\")\n",
    "        .replace(\"kanishka/\", \"\")\n",
    "        .replace(\"/\", \"_\")\n",
    "    )\n",
    "\n",
    "model_name"
   ]
  },
  {
   "cell_type": "code",
   "execution_count": 4,
   "id": "bd1eb559",
   "metadata": {},
   "outputs": [
    {
     "data": {
      "text/plain": [
       "[5.080320358276367, 2.4086380004882812]"
      ]
     },
     "execution_count": 4,
     "metadata": {},
     "output_type": "execute_result"
    }
   ],
   "source": [
    "lm.conditional_score(['the keys to the cabinet']*2, ['is', 'are'], reduction=lambda x: -x.mean(0).item())\n",
    "# lm.conditional_score()"
   ]
  },
  {
   "cell_type": "code",
   "execution_count": 5,
   "id": "324416b4",
   "metadata": {},
   "outputs": [
    {
     "name": "stderr",
     "output_type": "stream",
     "text": [
      "100%|██████████| 198/198 [00:15<00:00, 12.61it/s]\n"
     ]
    }
   ],
   "source": [
    "for pipp in tqdm(pipps):\n",
    "    for key in pipp:\n",
    "        if key not in ['idx', 'embedding', 'preposition']:\n",
    "            sentence = pipp[key]['sentence']\n",
    "            target = pipp[key]['target']\n",
    "            prefix, query = find_and_split(sentence, target)\n",
    "            if target == \".\":\n",
    "                sep = \"\"\n",
    "            else:\n",
    "                sep = \" \"\n",
    "            score = lm.conditional_score(prefix, query, separator=sep, reduction = lambda x: -x.mean(0).item(), base_two=True)\n",
    "            pipp[key]['score'] = score[0]"
   ]
  },
  {
   "cell_type": "code",
   "execution_count": 6,
   "id": "df3a763f",
   "metadata": {},
   "outputs": [],
   "source": [
    "def write_to_csv(results, filename):\n",
    "    with open(filename, 'w') as f:\n",
    "        writer = csv.writer(f)\n",
    "        writer.writerow(['idx', 'preposition', 'embedding', 'pipp_filler_gap', 'pp_no_filler_no_gap', 'filler_no_gap', 'no_filler_gap'])\n",
    "        for result in results:\n",
    "            writer.writerow([result['idx'], result['preposition'], result['embedding'], result['pipp_filler_gap']['score'], result['pp_no_filler_no_gap']['score'], result['filler_no_gap']['score'], result['no_filler_gap']['score']])"
   ]
  },
  {
   "cell_type": "code",
   "execution_count": 7,
   "id": "043dec00",
   "metadata": {},
   "outputs": [],
   "source": [
    "pathlib.Path('../../data/results/pipps/').mkdir(parents=True, exist_ok=True)\n",
    "write_to_csv(pipps, f'../../data/results/pipps/{model_name}.csv')"
   ]
  },
  {
   "cell_type": "code",
   "execution_count": 8,
   "id": "112c3ca7",
   "metadata": {},
   "outputs": [
    {
     "data": {
      "text/plain": [
       "[[('Happy', 0.0),\n",
       "  ('though', -14.23239517211914),\n",
       "  ('we', -5.657886505126953),\n",
       "  ('were', -3.171238899230957),\n",
       "  ('with', -6.144097805023193),\n",
       "  ('the', -2.1990251541137695),\n",
       "  ('idea', -7.152507781982422),\n",
       "  (',', -2.537522792816162),\n",
       "  ('we', -1.4758175611495972),\n",
       "  ('decided', -5.810355186462402),\n",
       "  ('to', -0.955513596534729),\n",
       "  ('move', -6.110415458679199),\n",
       "  ('on', -2.3879406452178955),\n",
       "  ('.', -2.4258055686950684)]]"
      ]
     },
     "execution_count": 8,
     "metadata": {},
     "output_type": "execute_result"
    }
   ],
   "source": [
    "lm.token_score(\"Happy though we were with the idea, we decided to move on.\", base_two=True)"
   ]
  },
  {
   "cell_type": "code",
   "execution_count": 37,
   "id": "6ed12401",
   "metadata": {},
   "outputs": [
    {
     "data": {
      "text/plain": [
       "-6.255131598794833"
      ]
     },
     "execution_count": 37,
     "metadata": {},
     "output_type": "execute_result"
    }
   ],
   "source": [
    "(-12.507351875305176 -0.00291132228448987)/2"
   ]
  },
  {
   "cell_type": "code",
   "execution_count": 13,
   "id": "1f739f11",
   "metadata": {},
   "outputs": [
    {
     "data": {
      "text/plain": [
       "{'idx': 32,\n",
       " 'preposition': 'though',\n",
       " 'embedding': '',\n",
       " 'pipp_filler_gap': {'sentence': 'The vacationers emphasized that the vacation was fun, frantic though it may have seemed.',\n",
       "  'target': '.',\n",
       "  'score': 1.3217829465866089},\n",
       " 'pp_no_filler_no_gap': {'sentence': 'The vacationers emphasized that the vacation was fun, though it may have seemed frantic.',\n",
       "  'target': 'frantic',\n",
       "  'score': 15.600930213928223},\n",
       " 'filler_no_gap': {'sentence': 'The vacationers emphasized that the vacation was fun, frantic though it may have seemed frantic.',\n",
       "  'target': 'frantic',\n",
       "  'score': 23.60569190979004},\n",
       " 'no_filler_gap': {'sentence': 'The vacationers emphasized that the vacation was fun, though it may have seemed.',\n",
       "  'target': '.',\n",
       "  'score': 12.073512077331543}}"
      ]
     },
     "execution_count": 13,
     "metadata": {},
     "output_type": "execute_result"
    }
   ],
   "source": [
    "pipps[32]"
   ]
  },
  {
   "cell_type": "code",
   "execution_count": 18,
   "id": "c685ed4a",
   "metadata": {},
   "outputs": [
    {
     "data": {
      "text/plain": [
       "[[('The', 0.0),\n",
       "  ('vacation', -16.906583786010742),\n",
       "  ('ers', -5.41076135635376),\n",
       "  ('emphasized', -15.571462631225586),\n",
       "  ('that', -1.1680978536605835),\n",
       "  ('the', -2.063772439956665),\n",
       "  ('vacation', -9.088308334350586),\n",
       "  ('was', -3.983067274093628),\n",
       "  ('fun', -8.611307144165039),\n",
       "  (',', -1.6558159589767456),\n",
       "  ('frantic', -18.40604591369629),\n",
       "  ('though', -12.963072776794434),\n",
       "  ('it', -0.2623327076435089),\n",
       "  ('may', -2.8368868827819824),\n",
       "  ('have', -0.9901316165924072),\n",
       "  ('seemed', -5.349593162536621),\n",
       "  ('frantic', -23.60569190979004),\n",
       "  ('.', -1.239820122718811)]]"
      ]
     },
     "execution_count": 18,
     "metadata": {},
     "output_type": "execute_result"
    }
   ],
   "source": [
    "lm.token_score(\"The vacationers emphasized that the vacation was fun, frantic though it may have seemed frantic.\", base_two=True)"
   ]
  },
  {
   "cell_type": "code",
   "execution_count": null,
   "id": "331e7c6c",
   "metadata": {},
   "outputs": [],
   "source": []
  }
 ],
 "metadata": {
  "kernelspec": {
   "display_name": "Python 3 (ipykernel)",
   "language": "python",
   "name": "python3"
  },
  "language_info": {
   "codemirror_mode": {
    "name": "ipython",
    "version": 3
   },
   "file_extension": ".py",
   "mimetype": "text/x-python",
   "name": "python",
   "nbconvert_exporter": "python",
   "pygments_lexer": "ipython3",
   "version": "3.11.4"
  }
 },
 "nbformat": 4,
 "nbformat_minor": 5
}

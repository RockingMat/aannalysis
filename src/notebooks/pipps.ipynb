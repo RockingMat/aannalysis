{
 "cells": [
  {
   "cell_type": "code",
   "execution_count": 46,
   "id": "a70db10c",
   "metadata": {},
   "outputs": [],
   "source": [
    "import json\n",
    "import re\n",
    "import pathlib\n",
    "import csv\n",
    "\n",
    "from minicons import scorer\n",
    "from tqdm import tqdm"
   ]
  },
  {
   "cell_type": "code",
   "execution_count": 20,
   "id": "9041720a",
   "metadata": {},
   "outputs": [],
   "source": [
    "# read jsonl\n",
    "def read_jsonl(path):\n",
    "    with open(path) as f:\n",
    "        data = f.readlines()\n",
    "    data = [json.loads(line) for line in data]\n",
    "    return data\n",
    "\n",
    "def find_and_split(sentence, target):\n",
    "    if target == \".\":\n",
    "        search_query = \"\\.\"\n",
    "    else:\n",
    "        search_query = target\n",
    "    search_results = list(re.finditer(search_query, sentence))[-1].span()\n",
    "    return sentence[:search_results[0]].strip(), target\n",
    "\n",
    "pipps = read_jsonl('../../data/pipps/materials.jsonl')"
   ]
  },
  {
   "cell_type": "code",
   "execution_count": 67,
   "id": "0e21889d",
   "metadata": {},
   "outputs": [
    {
     "name": "stderr",
     "output_type": "stream",
     "text": [
      "Using pad_token, but it is not set yet.\n"
     ]
    },
    {
     "data": {
      "text/plain": [
       "'gpt2'"
      ]
     },
     "execution_count": 67,
     "metadata": {},
     "output_type": "execute_result"
    }
   ],
   "source": [
    "# model_name = \"kanishka/smolm-autoreg-bpe-babylm-1e-3\"\n",
    "model_name = \"gpt2\"\n",
    "\n",
    "lm = scorer.IncrementalLMScorer(model_name)\n",
    "\n",
    "model_name = (\n",
    "        model_name.replace(\"../smolm/models/\", \"\")\n",
    "        .replace(\"kanishka/\", \"\")\n",
    "        .replace(\"/\", \"_\")\n",
    "    )\n",
    "\n",
    "model_name"
   ]
  },
  {
   "cell_type": "code",
   "execution_count": 61,
   "id": "bd1eb559",
   "metadata": {},
   "outputs": [
    {
     "data": {
      "text/plain": [
       "[4.189455032348633, 2.8807172775268555]"
      ]
     },
     "execution_count": 61,
     "metadata": {},
     "output_type": "execute_result"
    }
   ],
   "source": [
    "lm.conditional_score(['the keys to the cabinet']*2, ['is', 'are'], reduction=lambda x: -x.mean(0).item())\n",
    "# lm.conditional_score()"
   ]
  },
  {
   "cell_type": "code",
   "execution_count": 62,
   "id": "324416b4",
   "metadata": {},
   "outputs": [
    {
     "name": "stderr",
     "output_type": "stream",
     "text": [
      "100%|██████████| 198/198 [00:33<00:00,  5.90it/s]\n"
     ]
    }
   ],
   "source": [
    "for pipp in tqdm(pipps):\n",
    "    for key in pipp:\n",
    "        if key not in ['idx', 'embedding', 'preposition']:\n",
    "            sentence = pipp[key]['sentence']\n",
    "            target = pipp[key]['target']\n",
    "            prefix, query = find_and_split(sentence, target)\n",
    "            if target == \".\":\n",
    "                sep = \"\"\n",
    "            else:\n",
    "                sep = \" \"\n",
    "            score = lm.conditional_score(prefix, query, separator=sep, reduction = lambda x: -x.mean(0).item(), base_two=True)\n",
    "            pipp[key]['score'] = score[0]"
   ]
  },
  {
   "cell_type": "code",
   "execution_count": 63,
   "id": "df3a763f",
   "metadata": {},
   "outputs": [],
   "source": [
    "def write_to_csv(results, filename):\n",
    "    with open(filename, 'w') as f:\n",
    "        writer = csv.writer(f)\n",
    "        writer.writerow(['idx', 'preposition', 'embedding', 'pipp_filler_gap', 'pp_no_filler_no_gap', 'filler_no_gap', 'no_filler_gap'])\n",
    "        for result in results:\n",
    "            writer.writerow([result['idx'], result['preposition'], result['embedding'], result['pipp_filler_gap']['score'], result['pp_no_filler_no_gap']['score'], result['filler_no_gap']['score'], result['no_filler_gap']['score']])"
   ]
  },
  {
   "cell_type": "code",
   "execution_count": 64,
   "id": "043dec00",
   "metadata": {},
   "outputs": [],
   "source": [
    "pathlib.Path('../../data/results/pipps/').mkdir(parents=True, exist_ok=True)\n",
    "write_to_csv(pipps, f'../../data/results/pipps/{model_name}.csv')"
   ]
  },
  {
   "cell_type": "code",
   "execution_count": 40,
   "id": "112c3ca7",
   "metadata": {},
   "outputs": [
    {
     "data": {
      "text/plain": [
       "[[('<s>', 0.0),\n",
       "  ('happy', -13.18498706817627),\n",
       "  ('though', -14.813815116882324),\n",
       "  ('we', -7.678586959838867),\n",
       "  ('were', -4.217038154602051),\n",
       "  ('with', -10.1555814743042),\n",
       "  ('the', -3.2003817558288574),\n",
       "  ('idea', -11.002852439880371),\n",
       "  (',', -5.559576511383057),\n",
       "  ('we', -4.415450096130371),\n",
       "  ('decided', -4.9519572257995605),\n",
       "  ('to', -0.8715379238128662),\n",
       "  ('move', -5.797823429107666),\n",
       "  ('on', -2.466400384902954),\n",
       "  ('.', -2.186781406402588)]]"
      ]
     },
     "execution_count": 40,
     "metadata": {},
     "output_type": "execute_result"
    }
   ],
   "source": [
    "lm.token_score(\"Happy though we were with the idea, we decided to move on.\", base_two=True)"
   ]
  },
  {
   "cell_type": "code",
   "execution_count": 37,
   "id": "6ed12401",
   "metadata": {},
   "outputs": [
    {
     "data": {
      "text/plain": [
       "-6.255131598794833"
      ]
     },
     "execution_count": 37,
     "metadata": {},
     "output_type": "execute_result"
    }
   ],
   "source": [
    "(-12.507351875305176 -0.00291132228448987)/2"
   ]
  },
  {
   "cell_type": "code",
   "execution_count": 65,
   "id": "1f739f11",
   "metadata": {},
   "outputs": [
    {
     "data": {
      "text/plain": [
       "{'idx': 0,\n",
       " 'preposition': 'though',\n",
       " 'embedding': '',\n",
       " 'pipp_filler_gap': {'sentence': 'Happy though we were with the idea, we decided to move on.',\n",
       "  'target': 'with',\n",
       "  'score': 8.902581214904785},\n",
       " 'pp_no_filler_no_gap': {'sentence': 'Though we were happy with the idea, we decided to move on.',\n",
       "  'target': 'happy',\n",
       "  'score': 9.176909446716309},\n",
       " 'filler_no_gap': {'sentence': 'Happy though we were happy with the idea, we decided to move on.',\n",
       "  'target': 'happy',\n",
       "  'score': 10.340938568115234},\n",
       " 'no_filler_gap': {'sentence': 'Though we were with the idea, we decided to move on.',\n",
       "  'target': 'with',\n",
       "  'score': 9.188396453857422}}"
      ]
     },
     "execution_count": 65,
     "metadata": {},
     "output_type": "execute_result"
    }
   ],
   "source": [
    "pipps[0]"
   ]
  },
  {
   "cell_type": "code",
   "execution_count": null,
   "id": "c685ed4a",
   "metadata": {},
   "outputs": [],
   "source": []
  }
 ],
 "metadata": {
  "kernelspec": {
   "display_name": "Python 3 (ipykernel)",
   "language": "python",
   "name": "python3"
  },
  "language_info": {
   "codemirror_mode": {
    "name": "ipython",
    "version": 3
   },
   "file_extension": ".py",
   "mimetype": "text/x-python",
   "name": "python",
   "nbconvert_exporter": "python",
   "pygments_lexer": "ipython3",
   "version": "3.10.10"
  }
 },
 "nbformat": 4,
 "nbformat_minor": 5
}

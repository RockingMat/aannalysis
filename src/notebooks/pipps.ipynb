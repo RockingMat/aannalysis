{
 "cells": [
  {
   "cell_type": "code",
   "execution_count": 1,
   "id": "a70db10c",
   "metadata": {},
   "outputs": [],
   "source": [
    "import json\n",
    "import re\n",
    "import pathlib\n",
    "import csv\n",
    "\n",
    "from minicons import scorer\n",
    "from tqdm import tqdm\n",
    "\n",
    "from collections import defaultdict"
   ]
  },
  {
   "cell_type": "code",
   "execution_count": 2,
   "id": "9041720a",
   "metadata": {},
   "outputs": [],
   "source": [
    "# read jsonl\n",
    "def read_jsonl(path):\n",
    "    with open(path) as f:\n",
    "        data = f.readlines()\n",
    "    data = [json.loads(line) for line in data]\n",
    "    return data\n",
    "\n",
    "def find_and_split(sentence, target, condition):\n",
    "    if target == \".\":\n",
    "        search_query = \"\\.\"\n",
    "    elif target == \",\":\n",
    "        search_query = \",\"\n",
    "    else:\n",
    "        search_query = fr\"\\b{target}\\b\"\n",
    "    if \"pipp\" in condition or condition == \"no_filler_gap\":\n",
    "        search_index = 0\n",
    "    else:\n",
    "        search_index = -1\n",
    "    search_results = list(re.finditer(search_query, sentence))[search_index].span()\n",
    "    # print(search_results)\n",
    "    return sentence[:search_results[0]].strip(), target\n",
    "\n",
    "pipps = read_jsonl('../../data/pipps/materials.jsonl')"
   ]
  },
  {
   "cell_type": "code",
   "execution_count": 3,
   "id": "3633c93b",
   "metadata": {},
   "outputs": [],
   "source": [
    "pipps_organized = defaultdict(list)\n",
    "\n",
    "pipps_embedding_organized = defaultdict(list)\n",
    "\n",
    "for pipp in pipps:\n",
    "    if pipp['embedding'] == \"\":\n",
    "        pipps_organized[pipp['preposition']].append(pipp)\n",
    "    else:\n",
    "        pipps_embedding_organized[pipp['preposition']].append(pipp)"
   ]
  },
  {
   "cell_type": "code",
   "execution_count": 4,
   "id": "0e21889d",
   "metadata": {},
   "outputs": [
    {
     "data": {
      "application/vnd.jupyter.widget-view+json": {
       "model_id": "6a38df03df64434a93a0ff3f8ce1b1b5",
       "version_major": 2,
       "version_minor": 0
      },
      "text/plain": [
       "Downloading tokenizer_config.json:   0%|          | 0.00/1.10k [00:00<?, ?B/s]"
      ]
     },
     "metadata": {},
     "output_type": "display_data"
    },
    {
     "data": {
      "application/vnd.jupyter.widget-view+json": {
       "model_id": "fe4f3016957648aa94eac8afbbf5686d",
       "version_major": 2,
       "version_minor": 0
      },
      "text/plain": [
       "Downloading vocab.json:   0%|          | 0.00/249k [00:00<?, ?B/s]"
      ]
     },
     "metadata": {},
     "output_type": "display_data"
    },
    {
     "data": {
      "application/vnd.jupyter.widget-view+json": {
       "model_id": "a887aef1c16d4e4ab70aa7478190d40f",
       "version_major": 2,
       "version_minor": 0
      },
      "text/plain": [
       "Downloading merges.txt:   0%|          | 0.00/145k [00:00<?, ?B/s]"
      ]
     },
     "metadata": {},
     "output_type": "display_data"
    },
    {
     "data": {
      "application/vnd.jupyter.widget-view+json": {
       "model_id": "8752f344715442a0be4e7a5d750cf6b4",
       "version_major": 2,
       "version_minor": 0
      },
      "text/plain": [
       "Downloading tokenizer.json:   0%|          | 0.00/673k [00:00<?, ?B/s]"
      ]
     },
     "metadata": {},
     "output_type": "display_data"
    },
    {
     "data": {
      "application/vnd.jupyter.widget-view+json": {
       "model_id": "cd58f6cbdd9c43c7bcb55d045c43d620",
       "version_major": 2,
       "version_minor": 0
      },
      "text/plain": [
       "Downloading added_tokens.json:   0%|          | 0.00/29.0 [00:00<?, ?B/s]"
      ]
     },
     "metadata": {},
     "output_type": "display_data"
    },
    {
     "data": {
      "application/vnd.jupyter.widget-view+json": {
       "model_id": "6f9fa590851443d7a917bf8cf62abc7b",
       "version_major": 2,
       "version_minor": 0
      },
      "text/plain": [
       "Downloading (…)cial_tokens_map.json:   0%|          | 0.00/123 [00:00<?, ?B/s]"
      ]
     },
     "metadata": {},
     "output_type": "display_data"
    },
    {
     "data": {
      "application/vnd.jupyter.widget-view+json": {
       "model_id": "59d3ae0621c94a3aae0eb6c55f3ab887",
       "version_major": 2,
       "version_minor": 0
      },
      "text/plain": [
       "Downloading config.json:   0%|          | 0.00/798 [00:00<?, ?B/s]"
      ]
     },
     "metadata": {},
     "output_type": "display_data"
    },
    {
     "data": {
      "application/vnd.jupyter.widget-view+json": {
       "model_id": "74372c76776f46cc8a0b563f12648614",
       "version_major": 2,
       "version_minor": 0
      },
      "text/plain": [
       "Downloading model.safetensors:   0%|          | 0.00/391M [00:00<?, ?B/s]"
      ]
     },
     "metadata": {},
     "output_type": "display_data"
    },
    {
     "data": {
      "application/vnd.jupyter.widget-view+json": {
       "model_id": "a18fa301f98d45cc95e82bbd1ef4e25b",
       "version_major": 2,
       "version_minor": 0
      },
      "text/plain": [
       "Downloading generation_config.json:   0%|          | 0.00/132 [00:00<?, ?B/s]"
      ]
     },
     "metadata": {},
     "output_type": "display_data"
    },
    {
     "data": {
      "text/plain": [
       "'smolm-autoreg-bpe-counterfactual-babylm-keys_to_pipps_2913-1e-4'"
      ]
     },
     "execution_count": 4,
     "metadata": {},
     "output_type": "execute_result"
    }
   ],
   "source": [
    "model_name = \"kanishka/smolm-autoreg-bpe-counterfactual-babylm-keys_to_pipps_2913-1e-4\"\n",
    "# model_name = \"gpt2\"\n",
    "# model_name = \"\"\n",
    "\n",
    "lm = scorer.IncrementalLMScorer(model_name, \"cuda:2\")\n",
    "\n",
    "model_name = (\n",
    "        model_name.replace(\"../smolm/models/\", \"\")\n",
    "        .replace(\"kanishka/\", \"\")\n",
    "        .replace(\"/\", \"_\")\n",
    "    )\n",
    "\n",
    "model_name"
   ]
  },
  {
   "cell_type": "code",
   "execution_count": 5,
   "id": "324416b4",
   "metadata": {},
   "outputs": [
    {
     "name": "stderr",
     "output_type": "stream",
     "text": [
      "100%|██████████| 198/198 [00:05<00:00, 33.96it/s]\n"
     ]
    }
   ],
   "source": [
    "for pipp in tqdm(pipps):\n",
    "    for key in pipp:\n",
    "        if key not in ['idx', 'item_num', 'embedding', 'preposition']:\n",
    "            sentence = pipp[key]['sentence']\n",
    "            target = pipp[key]['target']\n",
    "            prefix, query = find_and_split(sentence, target, condition=key)\n",
    "            if target == \".\" or target == \",\":\n",
    "                sep = \"\"\n",
    "            else:\n",
    "                sep = \" \"\n",
    "            score = lm.conditional_score(prefix, query, separator=sep, reduction = lambda x: -x.mean(0).item(), base_two=True)\n",
    "            pipp[key]['score'] = score[0]"
   ]
  },
  {
   "cell_type": "code",
   "execution_count": 6,
   "id": "df3a763f",
   "metadata": {},
   "outputs": [],
   "source": [
    "def write_to_csv(results, filename):\n",
    "    with open(filename, 'w') as f:\n",
    "        writer = csv.writer(f)\n",
    "        writer.writerow(['idx', 'item_num', 'preposition', 'embedding', 'pipp_filler_gap', 'pp_no_filler_no_gap', 'filler_no_gap', 'no_filler_gap'])\n",
    "        for result in results:\n",
    "            writer.writerow([result['idx'], result['item_num'], result['preposition'], result['embedding'], result['pipp_filler_gap']['score'], result['pp_no_filler_no_gap']['score'], result['filler_no_gap']['score'], result['no_filler_gap']['score']])"
   ]
  },
  {
   "cell_type": "code",
   "execution_count": 7,
   "id": "043dec00",
   "metadata": {},
   "outputs": [],
   "source": [
    "pathlib.Path('../../data/results/pipps/').mkdir(parents=True, exist_ok=True)\n",
    "write_to_csv(pipps, f'../../data/results/pipps/{model_name}.csv')"
   ]
  },
  {
   "cell_type": "code",
   "execution_count": 8,
   "id": "112c3ca7",
   "metadata": {},
   "outputs": [
    {
     "data": {
      "text/plain": [
       "[[('Happy', 0.0),\n",
       "  ('though', -14.23239517211914),\n",
       "  ('we', -5.657886505126953),\n",
       "  ('were', -3.171238899230957),\n",
       "  ('with', -6.144097805023193),\n",
       "  ('the', -2.1990251541137695),\n",
       "  ('idea', -7.152507781982422),\n",
       "  (',', -2.537522792816162),\n",
       "  ('we', -1.4758175611495972),\n",
       "  ('decided', -5.810355186462402),\n",
       "  ('to', -0.955513596534729),\n",
       "  ('move', -6.110415458679199),\n",
       "  ('on', -2.3879406452178955),\n",
       "  ('.', -2.4258055686950684)]]"
      ]
     },
     "execution_count": 8,
     "metadata": {},
     "output_type": "execute_result"
    }
   ],
   "source": [
    "lm.token_score(\"Happy though we were with the idea, we decided to move on.\", base_two=True)"
   ]
  },
  {
   "cell_type": "code",
   "execution_count": 37,
   "id": "6ed12401",
   "metadata": {},
   "outputs": [
    {
     "data": {
      "text/plain": [
       "-6.255131598794833"
      ]
     },
     "execution_count": 37,
     "metadata": {},
     "output_type": "execute_result"
    }
   ],
   "source": [
    "(-12.507351875305176 -0.00291132228448987)/2"
   ]
  },
  {
   "cell_type": "code",
   "execution_count": 13,
   "id": "1f739f11",
   "metadata": {},
   "outputs": [
    {
     "data": {
      "text/plain": [
       "{'idx': 32,\n",
       " 'preposition': 'though',\n",
       " 'embedding': '',\n",
       " 'pipp_filler_gap': {'sentence': 'The vacationers emphasized that the vacation was fun, frantic though it may have seemed.',\n",
       "  'target': '.',\n",
       "  'score': 1.3217829465866089},\n",
       " 'pp_no_filler_no_gap': {'sentence': 'The vacationers emphasized that the vacation was fun, though it may have seemed frantic.',\n",
       "  'target': 'frantic',\n",
       "  'score': 15.600930213928223},\n",
       " 'filler_no_gap': {'sentence': 'The vacationers emphasized that the vacation was fun, frantic though it may have seemed frantic.',\n",
       "  'target': 'frantic',\n",
       "  'score': 23.60569190979004},\n",
       " 'no_filler_gap': {'sentence': 'The vacationers emphasized that the vacation was fun, though it may have seemed.',\n",
       "  'target': '.',\n",
       "  'score': 12.073512077331543}}"
      ]
     },
     "execution_count": 13,
     "metadata": {},
     "output_type": "execute_result"
    }
   ],
   "source": [
    "pipps[32]"
   ]
  },
  {
   "cell_type": "code",
   "execution_count": 18,
   "id": "c685ed4a",
   "metadata": {},
   "outputs": [
    {
     "data": {
      "text/plain": [
       "[[('The', 0.0),\n",
       "  ('vacation', -16.906583786010742),\n",
       "  ('ers', -5.41076135635376),\n",
       "  ('emphasized', -15.571462631225586),\n",
       "  ('that', -1.1680978536605835),\n",
       "  ('the', -2.063772439956665),\n",
       "  ('vacation', -9.088308334350586),\n",
       "  ('was', -3.983067274093628),\n",
       "  ('fun', -8.611307144165039),\n",
       "  (',', -1.6558159589767456),\n",
       "  ('frantic', -18.40604591369629),\n",
       "  ('though', -12.963072776794434),\n",
       "  ('it', -0.2623327076435089),\n",
       "  ('may', -2.8368868827819824),\n",
       "  ('have', -0.9901316165924072),\n",
       "  ('seemed', -5.349593162536621),\n",
       "  ('frantic', -23.60569190979004),\n",
       "  ('.', -1.239820122718811)]]"
      ]
     },
     "execution_count": 18,
     "metadata": {},
     "output_type": "execute_result"
    }
   ],
   "source": [
    "lm.token_score(\"The vacationers emphasized that the vacation was fun, frantic though it may have seemed frantic.\", base_two=True)"
   ]
  },
  {
   "cell_type": "code",
   "execution_count": null,
   "id": "331e7c6c",
   "metadata": {},
   "outputs": [],
   "source": []
  }
 ],
 "metadata": {
  "kernelspec": {
   "display_name": "Python 3 (ipykernel)",
   "language": "python",
   "name": "python3"
  },
  "language_info": {
   "codemirror_mode": {
    "name": "ipython",
    "version": 3
   },
   "file_extension": ".py",
   "mimetype": "text/x-python",
   "name": "python",
   "nbconvert_exporter": "python",
   "pygments_lexer": "ipython3",
   "version": "3.11.4"
  }
 },
 "nbformat": 4,
 "nbformat_minor": 5
}

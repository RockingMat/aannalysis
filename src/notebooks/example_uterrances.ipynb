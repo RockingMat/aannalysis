{
 "cells": [
  {
   "cell_type": "code",
   "execution_count": 2,
   "metadata": {},
   "outputs": [],
   "source": [
    "import csv\n",
    "import re\n",
    "import unicodedata"
   ]
  },
  {
   "cell_type": "code",
   "execution_count": 18,
   "metadata": {},
   "outputs": [],
   "source": [
    "def read_file(path):\n",
    "    \"\"\"TODO: make read all\"\"\"\n",
    "    return [\n",
    "        unicodedata.normalize(\"NFKD\", i.strip())\n",
    "        for i in open(path, encoding=\"utf-8\").readlines()\n",
    "        if i.strip() != \"\"\n",
    "    ]\n",
    "\n",
    "def read_csv_dict(path):\n",
    "    data = []\n",
    "    with open(path, \"r\") as f:\n",
    "        reader = csv.DictReader(f)\n",
    "        for line in reader:\n",
    "            data.append(line)\n",
    "    return data\n",
    "\n",
    "def get_sentence_idx(path):\n",
    "    return [int(x['sentence_idx']) for x in read_csv_dict(path)]"
   ]
  },
  {
   "cell_type": "code",
   "execution_count": 19,
   "metadata": {},
   "outputs": [],
   "source": [
    "babylm = read_file(\"/home/km55359/rawdata/babylm_data/babylm_100M/sents/babylm_sents.txt\")"
   ]
  },
  {
   "cell_type": "code",
   "execution_count": 20,
   "metadata": {},
   "outputs": [],
   "source": [
    "aann_ids = get_sentence_idx(\"../../data/babylm-analysis/new_regex_aanns.csv\")\n",
    "non_aann_ids = [x for x in get_sentence_idx(\"../../data/babylm-analysis/random_removal.csv\") if x not in aann_ids]\n",
    "indef_articles_with_pl_nouns = get_sentence_idx(\"../../data/babylm-analysis/indef_articles_with_pl_nouns.csv\")\n",
    "measure_nouns_with_singular_verbs = get_sentence_idx(\"../../data/babylm-analysis/measure_nouns_with_singular_verbs.csv\")\n",
    "singular_unit = list(set(indef_articles_with_pl_nouns + measure_nouns_with_singular_verbs))"
   ]
  },
  {
   "cell_type": "code",
   "execution_count": 21,
   "metadata": {},
   "outputs": [
    {
     "data": {
      "text/plain": [
       "(2448, 568862, 60076)"
      ]
     },
     "execution_count": 21,
     "metadata": {},
     "output_type": "execute_result"
    }
   ],
   "source": [
    "len(aann_ids), len(non_aann_ids), len(singular_unit)"
   ]
  },
  {
   "cell_type": "code",
   "execution_count": 23,
   "metadata": {},
   "outputs": [],
   "source": [
    "aann_sentences = [babylm[idx] for idx in aann_ids]\n",
    "non_aann_sentences = [babylm[idx] for idx in non_aann_ids]\n",
    "singular_unit_sentences = [babylm[idx] for idx in singular_unit]"
   ]
  },
  {
   "cell_type": "code",
   "execution_count": 24,
   "metadata": {},
   "outputs": [],
   "source": [
    "def write_file(list, path):\n",
    "    with open(path, \"w\") as f:\n",
    "        for i in list:\n",
    "            f.write(i + \"\\n\")"
   ]
  },
  {
   "cell_type": "code",
   "execution_count": 25,
   "metadata": {},
   "outputs": [],
   "source": [
    "write_file(aann_sentences, \"../../data/example_data/aann_sentences.txt\")\n",
    "write_file(non_aann_sentences, \"../../data/example_data/non_aann_sentences.txt\")\n",
    "write_file(singular_unit_sentences, \"../../data/example_data/singular_unit_sentences.txt\")"
   ]
  },
  {
   "cell_type": "code",
   "execution_count": null,
   "metadata": {},
   "outputs": [],
   "source": []
  }
 ],
 "metadata": {
  "kernelspec": {
   "display_name": "kmisra",
   "language": "python",
   "name": "python3"
  },
  "language_info": {
   "codemirror_mode": {
    "name": "ipython",
    "version": 3
   },
   "file_extension": ".py",
   "mimetype": "text/x-python",
   "name": "python",
   "nbconvert_exporter": "python",
   "pygments_lexer": "ipython3",
   "version": "3.1.undefined"
  }
 },
 "nbformat": 4,
 "nbformat_minor": 2
}

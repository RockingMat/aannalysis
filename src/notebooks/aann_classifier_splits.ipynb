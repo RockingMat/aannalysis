{
 "cells": [
  {
   "cell_type": "code",
   "execution_count": 1,
   "metadata": {},
   "outputs": [],
   "source": [
    "import csv\n",
    "import editors\n",
    "import random\n",
    "import utils\n",
    "import pandas as pd\n",
    "\n",
    "from collections import defaultdict\n",
    "from nltk.tokenize import sent_tokenize\n",
    "from constructions import AANN\n",
    "from functools import reduce\n",
    "from ordered_set import OrderedSet\n"
   ]
  },
  {
   "cell_type": "code",
   "execution_count": 2,
   "metadata": {},
   "outputs": [],
   "source": [
    "random.seed(42)"
   ]
  },
  {
   "cell_type": "code",
   "execution_count": 3,
   "metadata": {},
   "outputs": [],
   "source": [
    "def compose(*functions):\n",
    "    return reduce(lambda f, g: lambda x: f(g(x)), functions, lambda x: x)"
   ]
  },
  {
   "cell_type": "code",
   "execution_count": 4,
   "metadata": {},
   "outputs": [],
   "source": [
    "# read babylm aann data\n",
    "aanns = []\n",
    "with open(\"/home/km55359/rawdata/babylm_data/babylm_100M/aanns/aann_data.csv\", \"r\") as f:\n",
    "    reader = csv.DictReader(f)\n",
    "    for line in reader:\n",
    "        aanns.append(line)\n",
    "\n",
    "aanns_non_a_an = []\n",
    "with open(\"/home/km55359/rawdata/babylm_data/babylm_100M/aanns/aann_all_det_data.csv\", \"r\") as f:\n",
    "    reader = csv.DictReader(f)\n",
    "    for line in reader:\n",
    "        if line['DT'].lower() not in ['a', 'an', 'another']:\n",
    "            aanns_non_a_an.append(line)\n",
    "\n",
    "babylm_sents = []\n",
    "with open(\"/home/km55359/rawdata/babylm_data/babylm_100M/sents/babylm_sents.txt\", \"r\") as f:\n",
    "    for line in f:\n",
    "        babylm_sents.append(line.strip())"
   ]
  },
  {
   "cell_type": "code",
   "execution_count": 5,
   "metadata": {},
   "outputs": [
    {
     "name": "stdout",
     "output_type": "stream",
     "text": [
      "{'source': 'open_subtitles', 'sentence': \"I'll give him a fuckin' 30 days if I get my hands on him.\", 'sentence_idx': '4347718', 'construction': \"a fuckin ' 30 days\", 'pattern': 'DT JJ JJ CD NNS', 'DT': 'a', 'ADJ': \"fuckin & '\", 'NUMERAL': '30', 'NOUN': 'days', 'ADV': ''}\n",
      "{'source': 'qed', 'sentence': 'And each of those feet is made up of a dactyl, a long and two shorts, a dum [unknown].', 'sentence_idx': '630844', 'construction': 'a long and two shorts', 'pattern': 'DT JJ CC CD NNS', 'DT': 'a', 'ADJ': 'long', 'NUMERAL': 'two', 'NOUN': 'shorts', 'ADV': ''}\n",
      "{'source': 'qed', 'sentence': 'So, the basic element of Homeric epic poetry comes down to a long and two shorts.', 'sentence_idx': '630845', 'construction': 'a long and two shorts', 'pattern': 'DT JJ CC CD NNS', 'DT': 'a', 'ADJ': 'long', 'NUMERAL': 'two', 'NOUN': 'shorts', 'ADV': ''}\n",
      "{'source': 'qed', 'sentence': \"It's also the case that any of these dactyls a long and two shorts can be replaced by a spondee two longs.\", 'sentence_idx': '630850', 'construction': 'a long and two shorts', 'pattern': 'DT JJ CC CD NNS', 'DT': 'a', 'ADJ': 'long', 'NUMERAL': 'two', 'NOUN': 'shorts', 'ADV': ''}\n",
      "{'source': 'simple_wikipedia', 'sentence': 'In Europe there is a slightly smaller spider called \"Lycosa tarantula,\" a kind of wolf spider that people once believed could kill people. It gets its name from the city of Taranto in Italy. There are other wolf spiders that get a little larger than \"Hogna carolinensis\", one of which is found in the Canary Islands, \"Allohogna singoriensis,\" which reaches a full 40mm.', 'sentence_idx': '563794', 'construction': 'a full 40 mm', 'pattern': 'DT JJ CD NNS', 'DT': 'a', 'ADJ': 'full', 'NUMERAL': '40', 'NOUN': 'mm', 'ADV': ''}\n"
     ]
    }
   ],
   "source": [
    "for aann in aanns:\n",
    "    construction = utils.parse_instance(aann)\n",
    "    if construction.string not in aann['sentence']:\n",
    "        print(aann)"
   ]
  },
  {
   "cell_type": "code",
   "execution_count": 6,
   "metadata": {},
   "outputs": [],
   "source": [
    "def get_sents(aann_collection, editor=None):\n",
    "    aann_sents = []\n",
    "    found = False\n",
    "    for aann in aann_collection:\n",
    "        construction = utils.parse_instance(aann)\n",
    "        if construction.string not in aann['sentence']:\n",
    "            pass\n",
    "        else:\n",
    "            if editor is not None:\n",
    "                construction = editor(construction)\n",
    "                sentence = aann['sentence'].replace(aann['construction'], construction.string)\n",
    "            else:\n",
    "                sentence = aann['sentence']\n",
    "            sents = sent_tokenize(sentence)\n",
    "            if len(sents) == 1:\n",
    "                aann_sents.append(sents[0])\n",
    "                continue\n",
    "            else:\n",
    "                for sent in sents:\n",
    "                    if construction.string in sent:\n",
    "                        aann_sents.append(sent)\n",
    "                        found=True\n",
    "            if not found:\n",
    "                print(aann['construction'], aann['sentence'])\n",
    "            # print(aann['construction'], sent) \n",
    "\n",
    "    return list(OrderedSet(aann_sents))"
   ]
  },
  {
   "cell_type": "code",
   "execution_count": 7,
   "metadata": {},
   "outputs": [],
   "source": [
    "sents_aann = get_sents(aanns)\n",
    "sents_nan = get_sents(aanns, editor=compose(editors.corrupt_order, editors.corrupt_article)) # randomly sample 500\n",
    "sents_nan = random.sample(sents_nan, int(len(sents_aann)/2))\n",
    "sents_no_a_an = get_sents(aanns_non_a_an) # randomly sample same length as sents_aann\n",
    "sents_no_a_an = random.sample(sents_no_a_an, len(sents_aann))"
   ]
  },
  {
   "cell_type": "code",
   "execution_count": 8,
   "metadata": {},
   "outputs": [
    {
     "name": "stdout",
     "output_type": "stream",
     "text": [
      "21.1976401179941\n"
     ]
    }
   ],
   "source": [
    "# avg length of aann sents\n",
    "print(sum([len(sent.split()) for sent in sents_aann])/len(sents_aann))"
   ]
  },
  {
   "cell_type": "code",
   "execution_count": 9,
   "metadata": {},
   "outputs": [],
   "source": [
    "# randonly sample sents from babylm\n",
    "random.shuffle(babylm_sents)\n",
    "babylm_sampled_sents = []\n",
    "for sent in babylm_sents:\n",
    "    splitted = sent.split()\n",
    "    if len(splitted) > 7 and len(splitted) < 22:\n",
    "        if sent not in sents_aann:\n",
    "            if len(babylm_sampled_sents) < 2 * len(sents_aann):\n",
    "                babylm_sampled_sents.append(sent)"
   ]
  },
  {
   "cell_type": "code",
   "execution_count": 10,
   "metadata": {},
   "outputs": [
    {
     "data": {
      "text/plain": [
       "(1017, 508, 1017, 2034)"
      ]
     },
     "execution_count": 10,
     "metadata": {},
     "output_type": "execute_result"
    }
   ],
   "source": [
    "# data split?\n",
    "# 1021 aann sents\n",
    "# 500 aann but with non target determiners\n",
    "# 1000 randomly sampled sentences\n",
    "# 1021 aann sents but with nan construction (w/ corruption)\n",
    "\n",
    "len(sents_aann), len(sents_nan), len(sents_no_a_an), len(babylm_sampled_sents)"
   ]
  },
  {
   "cell_type": "code",
   "execution_count": 11,
   "metadata": {},
   "outputs": [],
   "source": [
    "dataset = {\n",
    "    'sentence': sents_aann + sents_nan + sents_no_a_an + babylm_sampled_sents,\n",
    "    'label': [1] * len(sents_aann) + [0] * len(sents_nan) + [0] * len(sents_no_a_an) + [0] * len(babylm_sampled_sents)\n",
    "}\n",
    "\n",
    "dataset = pd.DataFrame(dataset)\n",
    "dataset.to_csv(\"../data/aann_classifier_data.csv\", index=False)"
   ]
  },
  {
   "cell_type": "code",
   "execution_count": 12,
   "metadata": {},
   "outputs": [
    {
     "data": {
      "text/html": [
       "<div>\n",
       "<style scoped>\n",
       "    .dataframe tbody tr th:only-of-type {\n",
       "        vertical-align: middle;\n",
       "    }\n",
       "\n",
       "    .dataframe tbody tr th {\n",
       "        vertical-align: top;\n",
       "    }\n",
       "\n",
       "    .dataframe thead th {\n",
       "        text-align: right;\n",
       "    }\n",
       "</style>\n",
       "<table border=\"1\" class=\"dataframe\">\n",
       "  <thead>\n",
       "    <tr style=\"text-align: right;\">\n",
       "      <th></th>\n",
       "      <th>sentence</th>\n",
       "      <th>label</th>\n",
       "    </tr>\n",
       "  </thead>\n",
       "  <tbody>\n",
       "    <tr>\n",
       "      <th>0</th>\n",
       "      <td>We're talking a few thousand dollars!</td>\n",
       "      <td>1</td>\n",
       "    </tr>\n",
       "    <tr>\n",
       "      <th>1</th>\n",
       "      <td>Mister, you wouldn't want to own a dog that co...</td>\n",
       "      <td>1</td>\n",
       "    </tr>\n",
       "    <tr>\n",
       "      <th>2</th>\n",
       "      <td>I see .. all in all, a fine eighteen months.</td>\n",
       "      <td>1</td>\n",
       "    </tr>\n",
       "    <tr>\n",
       "      <th>3</th>\n",
       "      <td>And to blow up the bathtub, we're stretching t...</td>\n",
       "      <td>1</td>\n",
       "    </tr>\n",
       "    <tr>\n",
       "      <th>4</th>\n",
       "      <td>We were filming for a good 12 hours or so.</td>\n",
       "      <td>1</td>\n",
       "    </tr>\n",
       "    <tr>\n",
       "      <th>...</th>\n",
       "      <td>...</td>\n",
       "      <td>...</td>\n",
       "    </tr>\n",
       "    <tr>\n",
       "      <th>4571</th>\n",
       "      <td>At creating kind of off-balance sheet entities...</td>\n",
       "      <td>0</td>\n",
       "    </tr>\n",
       "    <tr>\n",
       "      <th>4572</th>\n",
       "      <td>Why don't you talk to her about it.</td>\n",
       "      <td>0</td>\n",
       "    </tr>\n",
       "    <tr>\n",
       "      <th>4573</th>\n",
       "      <td>friend inquired whether he had yet heard about...</td>\n",
       "      <td>0</td>\n",
       "    </tr>\n",
       "    <tr>\n",
       "      <th>4574</th>\n",
       "      <td>Do you know that your mother was married befor...</td>\n",
       "      <td>0</td>\n",
       "    </tr>\n",
       "    <tr>\n",
       "      <th>4575</th>\n",
       "      <td>I may not be the best ninja or one with the un...</td>\n",
       "      <td>0</td>\n",
       "    </tr>\n",
       "  </tbody>\n",
       "</table>\n",
       "<p>4576 rows × 2 columns</p>\n",
       "</div>"
      ],
      "text/plain": [
       "                                               sentence  label\n",
       "0                 We're talking a few thousand dollars!      1\n",
       "1     Mister, you wouldn't want to own a dog that co...      1\n",
       "2          I see .. all in all, a fine eighteen months.      1\n",
       "3     And to blow up the bathtub, we're stretching t...      1\n",
       "4            We were filming for a good 12 hours or so.      1\n",
       "...                                                 ...    ...\n",
       "4571  At creating kind of off-balance sheet entities...      0\n",
       "4572                Why don't you talk to her about it.      0\n",
       "4573  friend inquired whether he had yet heard about...      0\n",
       "4574  Do you know that your mother was married befor...      0\n",
       "4575  I may not be the best ninja or one with the un...      0\n",
       "\n",
       "[4576 rows x 2 columns]"
      ]
     },
     "execution_count": 12,
     "metadata": {},
     "output_type": "execute_result"
    }
   ],
   "source": [
    "dataset"
   ]
  },
  {
   "cell_type": "code",
   "execution_count": null,
   "metadata": {},
   "outputs": [],
   "source": []
  }
 ],
 "metadata": {
  "kernelspec": {
   "display_name": "kmisra",
   "language": "python",
   "name": "python3"
  },
  "language_info": {
   "codemirror_mode": {
    "name": "ipython",
    "version": 3
   },
   "file_extension": ".py",
   "mimetype": "text/x-python",
   "name": "python",
   "nbconvert_exporter": "python",
   "pygments_lexer": "ipython3",
   "version": "3.11.4"
  }
 },
 "nbformat": 4,
 "nbformat_minor": 2
}

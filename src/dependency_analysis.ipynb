{
 "cells": [
  {
   "cell_type": "code",
   "execution_count": 4,
   "metadata": {},
   "outputs": [],
   "source": [
    "import csv\n",
    "\n",
    "from collections import defaultdict\n",
    "\n",
    "from utils import read_csv_dict"
   ]
  },
  {
   "cell_type": "code",
   "execution_count": 3,
   "metadata": {},
   "outputs": [
    {
     "data": {
      "text/plain": [
       "11632017"
      ]
     },
     "execution_count": 3,
     "metadata": {},
     "output_type": "execute_result"
    }
   ],
   "source": [
    "def read_sents(path, batch_size=-1):\n",
    "    batches = []\n",
    "    with open(path) as f:\n",
    "        batch = []\n",
    "        for line in f:\n",
    "            if batch_size < 0:\n",
    "                batches.append(line.strip())\n",
    "            else:\n",
    "                batch.append(line.strip())\n",
    "                if len(batch) == batch_size:\n",
    "                    batches.append(batch)\n",
    "                    batch = []\n",
    "        if batch:\n",
    "            batches.append(batch)\n",
    "    return batches\n",
    "\n",
    "babylm = read_sents(\"/home/km55359/rawdata/babylm_data/babylm_100M/sents/babylm_sents.txt\")\n",
    "len(babylm)"
   ]
  },
  {
   "cell_type": "code",
   "execution_count": 5,
   "metadata": {},
   "outputs": [],
   "source": [
    "nummods = read_csv_dict(\"../data/babylm-analysis/plural_nouns_with_nummods.csv\")\n",
    "singular_heads = read_csv_dict(\"../data/babylm-analysis/plural_nouns_with_singular_heads.csv\")\n",
    "\n",
    "# nsubj"
   ]
  },
  {
   "cell_type": "code",
   "execution_count": 8,
   "metadata": {},
   "outputs": [],
   "source": [
    "nummod_ids = set([int(row[\"idx\"]) for row in nummods])\n",
    "singular_head_ids = set([int(row[\"idx\"]) for row in singular_heads])\n",
    "\n",
    "intersection = nummod_ids.intersection(singular_head_ids)"
   ]
  },
  {
   "cell_type": "code",
   "execution_count": 17,
   "metadata": {},
   "outputs": [],
   "source": [
    "intersection = defaultdict(list)\n",
    "for head in singular_heads:\n",
    "    if int(head[\"idx\"]) in nummod_ids:\n",
    "        intersection[head['noun_dep']].append((head['noun'], head['verb'], babylm[int(head['idx'])]))\n",
    "intersection = dict(intersection)"
   ]
  },
  {
   "cell_type": "code",
   "execution_count": 24,
   "metadata": {},
   "outputs": [
    {
     "data": {
      "text/plain": [
       "135720"
      ]
     },
     "execution_count": 24,
     "metadata": {},
     "output_type": "execute_result"
    }
   ],
   "source": [
    "len(singular_heads)"
   ]
  },
  {
   "cell_type": "code",
   "execution_count": 23,
   "metadata": {},
   "outputs": [
    {
     "ename": "KeyError",
     "evalue": "''",
     "output_type": "error",
     "traceback": [
      "\u001b[0;31m---------------------------------------------------------------------------\u001b[0m",
      "\u001b[0;31mKeyError\u001b[0m                                  Traceback (most recent call last)",
      "\u001b[1;32m/home/km55359/aannalysis/src/dependency_analysis.ipynb Cell 7\u001b[0m line \u001b[0;36m1\n\u001b[0;32m----> <a href='vscode-notebook-cell://ssh-remote%2Bcompling/home/km55359/aannalysis/src/dependency_analysis.ipynb#X10sdnNjb2RlLXJlbW90ZQ%3D%3D?line=0'>1</a>\u001b[0m \u001b[39mlen\u001b[39m(intersection[\u001b[39m'\u001b[39;49m\u001b[39m'\u001b[39;49m])\n",
      "\u001b[0;31mKeyError\u001b[0m: ''"
     ]
    }
   ],
   "source": [
    "len(intersection[''])"
   ]
  },
  {
   "cell_type": "code",
   "execution_count": null,
   "metadata": {},
   "outputs": [],
   "source": []
  }
 ],
 "metadata": {
  "kernelspec": {
   "display_name": "kmisra",
   "language": "python",
   "name": "python3"
  },
  "language_info": {
   "codemirror_mode": {
    "name": "ipython",
    "version": 3
   },
   "file_extension": ".py",
   "mimetype": "text/x-python",
   "name": "python",
   "nbconvert_exporter": "python",
   "pygments_lexer": "ipython3",
   "version": "3.11.4"
  }
 },
 "nbformat": 4,
 "nbformat_minor": 2
}

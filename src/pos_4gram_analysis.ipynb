{
 "cells": [
  {
   "cell_type": "code",
   "execution_count": 1,
   "metadata": {},
   "outputs": [],
   "source": [
    "import kenlm"
   ]
  },
  {
   "cell_type": "code",
   "execution_count": 2,
   "metadata": {},
   "outputs": [],
   "source": [
    "lm = kenlm.Model(\"../models/fourgrams/babylm_postags.binary\")"
   ]
  },
  {
   "cell_type": "code",
   "execution_count": 4,
   "metadata": {},
   "outputs": [
    {
     "data": {
      "text/plain": [
       "[(-1.0605741739273071, 2, False),\n",
       " (-0.8619967699050903, 3, False),\n",
       " (-1.8306149244308472, 4, False),\n",
       " (-0.3986440896987915, 4, False),\n",
       " (-1.8731902837753296, 4, False)]"
      ]
     },
     "execution_count": 4,
     "metadata": {},
     "output_type": "execute_result"
    }
   ],
   "source": [
    "list(lm.full_scores(\"DT JJ CD NNS\"))"
   ]
  },
  {
   "cell_type": "code",
   "execution_count": 5,
   "metadata": {},
   "outputs": [
    {
     "data": {
      "text/plain": [
       "[(-1.0605741739273071, 2, False),\n",
       " (-1.8199771642684937, 3, False),\n",
       " (-1.157897710800171, 4, False),\n",
       " (-0.5001471042633057, 4, False),\n",
       " (-1.8374634981155396, 4, False)]"
      ]
     },
     "execution_count": 5,
     "metadata": {},
     "output_type": "execute_result"
    }
   ],
   "source": [
    "list(lm.full_scores(\"DT CD JJ NNS\"))"
   ]
  },
  {
   "cell_type": "code",
   "execution_count": 6,
   "metadata": {},
   "outputs": [
    {
     "name": "stdout",
     "output_type": "stream",
     "text": [
      "-1.0605741739273071 2: <s> DT\n",
      "-1.8199771642684937 3: <s> DT CD\n",
      "-1.157897710800171 4: <s> DT CD JJ\n",
      "-0.5001471042633057 4: DT CD JJ NNS\n",
      "-1.8374634981155396 4: CD JJ NNS </s>\n"
     ]
    }
   ],
   "source": [
    "sentence = \"DT CD JJ NNS\"\n",
    "\n",
    "words = ['<s>'] + sentence.split() + ['</s>']\n",
    "for i, (prob, length, oov) in enumerate(lm.full_scores(sentence)):\n",
    "    print('{0} {1}: {2}'.format(prob, length, ' '.join(words[i+2-length:i+2])))\n",
    "    if oov:\n",
    "        print('\\t\"{0}\" is an OOV'.format(words[i+1]))"
   ]
  },
  {
   "cell_type": "code",
   "execution_count": 7,
   "metadata": {},
   "outputs": [
    {
     "name": "stdout",
     "output_type": "stream",
     "text": [
      "-1.0605741739273071 2: <s> DT\n",
      "-0.8619967699050903 3: <s> DT JJ\n",
      "-1.8306149244308472 4: <s> DT JJ CD\n",
      "-0.3986440896987915 4: DT JJ CD NNS\n",
      "-1.8731902837753296 4: JJ CD NNS </s>\n"
     ]
    }
   ],
   "source": [
    "sentence = \"DT JJ CD NNS\"\n",
    "\n",
    "words = ['<s>'] + sentence.split() + ['</s>']\n",
    "for i, (prob, length, oov) in enumerate(lm.full_scores(sentence)):\n",
    "    print('{0} {1}: {2}'.format(prob, length, ' '.join(words[i+2-length:i+2])))\n",
    "    if oov:\n",
    "        print('\\t\"{0}\" is an OOV'.format(words[i+1]))"
   ]
  },
  {
   "cell_type": "code",
   "execution_count": 8,
   "metadata": {},
   "outputs": [
    {
     "data": {
      "text/plain": [
       "[(-0.8619967699050903, 3, False),\n",
       " (-1.8306149244308472, 4, False),\n",
       " (-0.3986440896987915, 4, False)]"
      ]
     },
     "execution_count": 8,
     "metadata": {},
     "output_type": "execute_result"
    }
   ],
   "source": [
    "list(lm.full_scores(sentence))[1:-1]"
   ]
  },
  {
   "cell_type": "code",
   "execution_count": 9,
   "metadata": {},
   "outputs": [
    {
     "data": {
      "text/plain": [
       "-3.091255784034729"
      ]
     },
     "execution_count": 9,
     "metadata": {},
     "output_type": "execute_result"
    }
   ],
   "source": [
    "-0.8619967699050903 -1.8306149244308472 -0.3986440896987915"
   ]
  },
  {
   "cell_type": "code",
   "execution_count": 10,
   "metadata": {},
   "outputs": [
    {
     "data": {
      "text/plain": [
       "-3.47802197933197"
      ]
     },
     "execution_count": 10,
     "metadata": {},
     "output_type": "execute_result"
    }
   ],
   "source": [
    "-1.8199771642684937 -1.157897710800171 -0.5001471042633057"
   ]
  },
  {
   "cell_type": "code",
   "execution_count": 11,
   "metadata": {},
   "outputs": [
    {
     "name": "stdout",
     "output_type": "stream",
     "text": [
      "-1.0605741739273071 2: <s> DT\n",
      "-0.8619967699050903 3: <s> DT JJ\n",
      "-0.9497100710868835 4: <s> DT JJ NNS\n",
      "-1.7353957891464233 4: DT JJ NNS </s>\n"
     ]
    }
   ],
   "source": [
    "sentence = \"DT JJ NNS\"\n",
    "\n",
    "words = ['<s>'] + sentence.split() + ['</s>']\n",
    "for i, (prob, length, oov) in enumerate(lm.full_scores(sentence)):\n",
    "    print('{0} {1}: {2}'.format(prob, length, ' '.join(words[i+2-length:i+2])))\n",
    "    if oov:\n",
    "        print('\\t\"{0}\" is an OOV'.format(words[i+1]))"
   ]
  },
  {
   "cell_type": "code",
   "execution_count": 13,
   "metadata": {},
   "outputs": [
    {
     "data": {
      "text/plain": [
       "-0.603902280330658"
      ]
     },
     "execution_count": 13,
     "metadata": {},
     "output_type": "execute_result"
    }
   ],
   "source": [
    "(-0.8619967699050903 -0.9497100710868835)/3"
   ]
  },
  {
   "cell_type": "code",
   "execution_count": 15,
   "metadata": {},
   "outputs": [
    {
     "data": {
      "text/plain": [
       "[(-1.6723638772964478, 1, False),\n",
       " (-1.5903217792510986, 2, False),\n",
       " (-1.488277792930603, 3, False)]"
      ]
     },
     "execution_count": 15,
     "metadata": {},
     "output_type": "execute_result"
    }
   ],
   "source": [
    "list(lm.full_scores(\"DT JJ NNS\", eos=False, bos=False))"
   ]
  },
  {
   "cell_type": "code",
   "execution_count": null,
   "metadata": {},
   "outputs": [],
   "source": []
  }
 ],
 "metadata": {
  "kernelspec": {
   "display_name": "kmisra",
   "language": "python",
   "name": "python3"
  },
  "language_info": {
   "codemirror_mode": {
    "name": "ipython",
    "version": 3
   },
   "file_extension": ".py",
   "mimetype": "text/x-python",
   "name": "python",
   "nbconvert_exporter": "python",
   "pygments_lexer": "ipython3",
   "version": "3.11.4"
  }
 },
 "nbformat": 4,
 "nbformat_minor": 2
}

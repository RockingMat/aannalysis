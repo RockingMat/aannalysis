{
 "cells": [
  {
   "cell_type": "code",
   "execution_count": 1,
   "id": "3c257c32-ec2f-4cfc-acdf-f1d5e927ff54",
   "metadata": {},
   "outputs": [],
   "source": [
    "import re\n",
    "import csv\n",
    "import inflect\n",
    "\n",
    "from collections import defaultdict\n",
    "from dataclasses import dataclass\n",
    "from minicons import utils as mu\n",
    "from tqdm import tqdm"
   ]
  },
  {
   "cell_type": "code",
   "execution_count": 2,
   "id": "32558d90-38fc-47cb-81cc-d160de802b6e",
   "metadata": {},
   "outputs": [],
   "source": [
    "inflector = inflect.engine()"
   ]
  },
  {
   "cell_type": "code",
   "execution_count": 3,
   "id": "c9d88b84-e6c5-494c-b9d1-47459ecef8c3",
   "metadata": {},
   "outputs": [],
   "source": [
    "aanns = []\n",
    "with open(\"rawdata/books1/openbooks_aanns.csv\", \"r\") as f:\n",
    "    reader = csv.DictReader(f)\n",
    "    for line in reader:\n",
    "        aanns.append(line)"
   ]
  },
  {
   "cell_type": "code",
   "execution_count": 4,
   "id": "c55a0f4b-cb84-4f1c-84b4-340403688319",
   "metadata": {},
   "outputs": [],
   "source": [
    "@dataclass\n",
    "class AANN:\n",
    "    article: str\n",
    "    adjective: str\n",
    "    numeral: str\n",
    "    noun: str\n",
    "\n",
    "    def __post_init__(self):\n",
    "        self.string = f\"{self.article} {self.adjective} {self.numeral} {self.noun}\""
   ]
  },
  {
   "cell_type": "code",
   "execution_count": 5,
   "id": "00deea83-d393-4203-a4ab-c37dde258f2f",
   "metadata": {},
   "outputs": [],
   "source": [
    "adj_pattern = r'((?=(JJR|JJS|JJ|RB|CC))(.*)(JJR|JJS|JJ))|JJR|JJS|JJ'\n",
    "num_pattern = r'(?:(?:CD|CC|TO)\\s+){2,}CD|CD'\n",
    "\n",
    "def parse_aann(string, pattern):\n",
    "    tokens = string.split()\n",
    "    adj_span = re.search(adj_pattern, pattern).group(0)\n",
    "    num_span = re.search(num_pattern, pattern).group(0)\n",
    "\n",
    "    adjs_idx = mu.find_pattern(adj_span.split(), pattern.split())\n",
    "    nums_idx = mu.find_pattern(num_span.split(), pattern.split())\n",
    "\n",
    "    parsed = AANN(tokens[0], \" \".join(tokens[adjs_idx[0]:adjs_idx[1]]), \" \".join(tokens[nums_idx[0]:nums_idx[1]]), \" \".join(tokens[nums_idx[1]:]))\n",
    "    return parsed\n",
    "\n",
    "def parse_instance(aann):\n",
    "    return parse_aann(aann['construction'], aann['pattern'])"
   ]
  },
  {
   "cell_type": "code",
   "execution_count": 6,
   "id": "85754994-bb9f-40d0-b4bc-c1f332b56a78",
   "metadata": {},
   "outputs": [
    {
     "data": {
      "text/plain": [
       "AANN(article='a', adjective='good', numeral='twenty', noun='years')"
      ]
     },
     "execution_count": 6,
     "metadata": {},
     "output_type": "execute_result"
    }
   ],
   "source": [
    "parse_instance(aanns[10])"
   ]
  },
  {
   "cell_type": "code",
   "execution_count": 7,
   "id": "577224e1-2ced-43ad-b709-085513e9ecc6",
   "metadata": {},
   "outputs": [],
   "source": [
    "def corrupt_order(aann):\n",
    "    return f\"{aann.article} {aann.numeral} {aann.adjective} {aann.noun}\"\n",
    "\n",
    "def corrupt_article(aann):\n",
    "    return f\"{aann.numeral} {aann.adjective} {aann.noun}\"\n",
    "\n",
    "def corrupt_modifier(aann):\n",
    "    return f\"{aann.article} {aann.numeral} {aann.noun}\"\n",
    "\n",
    "def corrupt_noun_num(aann):\n",
    "    return f\"{aann.article} {aann.adjective} {aann.numeral} {inflector.singular_noun(aann.noun.split(' ')[-1])}\""
   ]
  },
  {
   "cell_type": "code",
   "execution_count": 8,
   "id": "4c9df83f-3160-4d93-890c-3ec6caf451f2",
   "metadata": {},
   "outputs": [],
   "source": [
    "def corrupt_all(aann):\n",
    "    print(f\"Original: {aann.string}\")\n",
    "    print(f\"Order Swap: {corrupt_order(aann)}\")\n",
    "    print(f\"No Article: {corrupt_article(aann)}\")\n",
    "    print(f\"No Modifier: {corrupt_modifier(aann)}\")\n",
    "    print(f\"Noun Number: {corrupt_noun_num(aann)}\")"
   ]
  },
  {
   "cell_type": "code",
   "execution_count": 9,
   "id": "731f7815-a809-4fc6-990e-93a25bbc8c57",
   "metadata": {},
   "outputs": [
    {
     "name": "stdout",
     "output_type": "stream",
     "text": [
      "Original: a good twenty years\n",
      "Order Swap: a twenty good years\n",
      "No Article: twenty good years\n",
      "No Modifier: a twenty years\n",
      "Noun Number: a good twenty year\n"
     ]
    }
   ],
   "source": [
    "corrupt_all(parse_instance(aanns[10]))"
   ]
  },
  {
   "cell_type": "code",
   "execution_count": 10,
   "id": "fd23e44e-d2fb-40c2-bfb9-ff1000468e55",
   "metadata": {},
   "outputs": [],
   "source": [
    "corruption_types = {\n",
    "    'order_swap': corrupt_order,\n",
    "    'no_article': corrupt_article,\n",
    "    'no_modifier': corrupt_modifier,\n",
    "    'noun_number': corrupt_noun_num\n",
    "}"
   ]
  },
  {
   "cell_type": "code",
   "execution_count": 11,
   "id": "f9a850b0-78ae-4669-a6a1-4ce51e826ba6",
   "metadata": {},
   "outputs": [
    {
     "data": {
      "text/plain": [
       "<spacy.pipeline.sentencizer.Sentencizer at 0x7fb46fabb390>"
      ]
     },
     "execution_count": 11,
     "metadata": {},
     "output_type": "execute_result"
    }
   ],
   "source": [
    "from spacy.lang.en import English\n",
    "\n",
    "nlp = English()\n",
    "nlp.add_pipe(\"sentencizer\")"
   ]
  },
  {
   "cell_type": "code",
   "execution_count": 12,
   "id": "4e0b5e63-75e0-4ad1-825a-abd32abe1df1",
   "metadata": {},
   "outputs": [],
   "source": [
    "bad_construction_patterns = [\n",
    "    'DT JJ CC CD NNS',\n",
    "    'DT JJ JJ CC CD NNS',\n",
    "    'DT JJ JJR CC CD TO CD NNS',\n",
    "    'DT JJ JJ CC CD CC CD NNS'\n",
    "]\n",
    "\n",
    "unwanted_nouns = [\n",
    "    \"'s\",\n",
    "    'ks',\n",
    "    'k',\n",
    "    \"CC & 's\",\n",
    "    \"Hjarrleth\",\n",
    "    \"years & homosexuals\",\n",
    "    \"zlotys\",\n",
    "    \"Rads\",\n",
    "    \"metres10\",\n",
    "    \"pounds & bs\",\n",
    "    \"G\",\n",
    "    \"g\",\n",
    "    \"°\",\n",
    "    \"kez\",\n",
    "    'a',\n",
    "    '\"',\n",
    "    \"C\",\n",
    "    \"kms2\",\n",
    "    \"'\",\n",
    "    \"écus\",\n",
    "    \"times?\",\n",
    "    \"minutos\",\n",
    "    \"anos\",\n",
    "    \"Kleti\",\n",
    "    \"Tusse\",\n",
    "    \"MPH\",\n",
    "    'mph',\n",
    "    \"dollarsworth\",\n",
    "    'Etherael',\n",
    "    'Draugari',\n",
    "    'drachma',\n",
    "    'folk',\n",
    "    'ha',\n",
    "    'grotz',\n",
    "    'li',\n",
    "    'lira',\n",
    "    'people--',\n",
    "    'mL',\n",
    "    'mi',\n",
    "    'ml',\n",
    "]"
   ]
  },
  {
   "cell_type": "code",
   "execution_count": 13,
   "id": "68824ea9-be73-4cb7-acef-dc4fbc613e51",
   "metadata": {},
   "outputs": [],
   "source": [
    "def construction_pieces(sentence, construction):\n",
    "    left, right = mu.character_span(sentence, construction)\n",
    "    return sentence[:left], sentence[left:right], sentence[right:]\n",
    "\n",
    "def reconstruct(left, middle, right):\n",
    "    string = \" \".join([left, middle, right]).strip()\n",
    "    return re.sub(r' {2,}', ' ', string)"
   ]
  },
  {
   "cell_type": "code",
   "execution_count": 14,
   "id": "f670d6dc-17a5-4bb4-861e-db1ab360e1ce",
   "metadata": {},
   "outputs": [
    {
     "name": "stderr",
     "output_type": "stream",
     "text": [
      "100%|███████████████████████████████████████████████████| 21476/21476 [00:07<00:00, 2989.85it/s]\n"
     ]
    }
   ],
   "source": [
    "corrupted_sents = {\n",
    "    k: [] for k, v in corruption_types.items()\n",
    "}\n",
    "\n",
    "final_aanns = []\n",
    "\n",
    "uninflected_counter = 0\n",
    "\n",
    "counter = 0\n",
    "for aann in tqdm(aanns):\n",
    "    # manual fix\n",
    "    if aann['sentence_idx'] == '23546818':\n",
    "        aann['construction'] == \"a few thousand dollars\"\n",
    "        aann['DT'] = \"a\"\n",
    "        aann['ADJ'] = \"few\"\n",
    "        aann['NUMERAL'] = \"thousand\"\n",
    "        aann['NOUN'] = \"dollars\"\n",
    "    \n",
    "    if aann['sentence_idx'] == '33259998':\n",
    "        aann['construction'] = \"a few zillion comets\"\n",
    "        aann['sentence'] = aann['sentence'].replace(\"comets./\", \"comets.\")\n",
    "        aann['NOUN'] = \"comets\"    \n",
    "        \n",
    "    if aann['NOUN'] not in unwanted_nouns and aann['pattern'] not in bad_construction_patterns\\\n",
    "    and \"& 's\" not in aann['NOUN'] and \"_\" not in aann['NOUN'] and \"& *\" not in aann['NOUN']:\n",
    "        sents = [s.text for s in nlp(aann['sentence']).sents]\n",
    "        relevant_sent = None\n",
    "        for sent in sents:\n",
    "            if aann['construction'] in sent:\n",
    "                relevant_sent = sent\n",
    "    \n",
    "        parsed_aann = parse_aann(aann['construction'], aann['pattern'])\n",
    "\n",
    "        inflected = inflector.singular_noun(parsed_aann.noun)\n",
    "        if inflected:\n",
    "            counter += 1\n",
    "        \n",
    "            left, construction, right = construction_pieces(relevant_sent, aann['construction'])\n",
    "            for corruption_type, corruption_function in corruption_types.items():\n",
    "                corrupted_construction = corruption_function(parsed_aann)\n",
    "                reconstructed = reconstruct(left, corrupted_construction, right)\n",
    "                obj = {\n",
    "                    'idx': counter, \n",
    "                    'construction': aann['construction'], \n",
    "                    'corrupted_construction': corrupted_construction, \n",
    "                    'corrupted_sentence': reconstructed\n",
    "                }\n",
    "                corrupted_sents[corruption_type].append(obj)\n",
    "            \n",
    "            final_aanns.append({\n",
    "                'idx': counter,\n",
    "                'source': aann['source'],\n",
    "                'sentence': relevant_sent,\n",
    "                'construction': aann['construction'],\n",
    "                'pattern': aann['pattern'],\n",
    "                'DT': aann['DT'],\n",
    "                'ADJ': aann['ADJ'],\n",
    "                'NUMERAL': aann['NUMERAL'],\n",
    "                'NOUN': aann['NOUN'],\n",
    "                'ADV': aann['ADV']\n",
    "            })\n",
    "        else:\n",
    "            uninflected_counter += 1"
   ]
  },
  {
   "cell_type": "code",
   "execution_count": 15,
   "id": "4ee378c7-6689-4faf-8577-756c75555ded",
   "metadata": {},
   "outputs": [
    {
     "data": {
      "text/plain": [
       "(21294, 21476)"
      ]
     },
     "execution_count": 15,
     "metadata": {},
     "output_type": "execute_result"
    }
   ],
   "source": [
    "len(final_aanns), len(aanns)"
   ]
  }
 ],
 "metadata": {
  "kernelspec": {
   "display_name": "Python 3 (ipykernel)",
   "language": "python",
   "name": "python3"
  },
  "language_info": {
   "codemirror_mode": {
    "name": "ipython",
    "version": 3
   },
   "file_extension": ".py",
   "mimetype": "text/x-python",
   "name": "python",
   "nbconvert_exporter": "python",
   "pygments_lexer": "ipython3",
   "version": "3.11.4"
  }
 },
 "nbformat": 4,
 "nbformat_minor": 5
}

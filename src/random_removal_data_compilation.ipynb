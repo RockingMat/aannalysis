{
 "cells": [
  {
   "cell_type": "code",
   "execution_count": 17,
   "metadata": {},
   "outputs": [],
   "source": [
    "import utils\n",
    "import csv"
   ]
  },
  {
   "cell_type": "code",
   "execution_count": 2,
   "metadata": {},
   "outputs": [],
   "source": [
    "corpus = utils.read_file(\"/home/km55359/rawdata/babylm_data/babylm_100M/sents/babylm_sents.txt\")"
   ]
  },
  {
   "cell_type": "code",
   "execution_count": 7,
   "metadata": {},
   "outputs": [],
   "source": [
    "# get unique set of all ids\n",
    "def get_ids(path):\n",
    "    file = utils.read_csv_dict(path)\n",
    "    return [int(row['sentence_idx']) for row in file]\n",
    "\n",
    "ids = set()\n",
    "\n",
    "path = \"../data/babylm-analysis/\"\n",
    "\n",
    "files = [\"adjs_to_remove\", \"indef_articles_with_pl_nouns\", \"measure_nouns_with_singular_verbs\"]\n",
    "\n",
    "for file in files:\n",
    "    ids.update(get_ids(path + file + \".csv\"))\n",
    "\n",
    "aann_files = [\"../data/babylm-aanns/aanns_all_det_all.csv\", \"../data/babylm-aanns/aanns_indef_all.csv\"]\n",
    "\n",
    "for file in aann_files:\n",
    "    ids.update(get_ids(file))"
   ]
  },
  {
   "cell_type": "code",
   "execution_count": 8,
   "metadata": {},
   "outputs": [],
   "source": [
    "largest_removal = get_ids(path + \"adjs_to_remove.csv\")"
   ]
  },
  {
   "cell_type": "code",
   "execution_count": 13,
   "metadata": {},
   "outputs": [
    {
     "data": {
      "text/plain": [
       "568876"
      ]
     },
     "execution_count": 13,
     "metadata": {},
     "output_type": "execute_result"
    }
   ],
   "source": [
    "# largest_removal\n",
    "# corpus[6]\n",
    "len(largest_removal)"
   ]
  },
  {
   "cell_type": "code",
   "execution_count": 14,
   "metadata": {},
   "outputs": [],
   "source": [
    "removal_corpus = []\n",
    "\n",
    "for idx, sentence in enumerate(corpus):\n",
    "    if idx not in ids:\n",
    "        if len(removal_corpus) == len(largest_removal):\n",
    "            break\n",
    "        else:\n",
    "            removal_corpus.append((idx, sentence))"
   ]
  },
  {
   "cell_type": "code",
   "execution_count": 15,
   "metadata": {},
   "outputs": [
    {
     "data": {
      "text/plain": [
       "568876"
      ]
     },
     "execution_count": 15,
     "metadata": {},
     "output_type": "execute_result"
    }
   ],
   "source": [
    "len(removal_corpus)"
   ]
  },
  {
   "cell_type": "code",
   "execution_count": 16,
   "metadata": {},
   "outputs": [
    {
     "data": {
      "text/plain": [
       "(0,\n",
       " 'It may not look like much now but this is actually going to turn into one of the three student lounges which is a really big step up from our old campus.')"
      ]
     },
     "execution_count": 16,
     "metadata": {},
     "output_type": "execute_result"
    }
   ],
   "source": [
    "removal_corpus[0]"
   ]
  },
  {
   "cell_type": "code",
   "execution_count": 18,
   "metadata": {},
   "outputs": [],
   "source": [
    "# write to csv file\n",
    "with open(\"../data/babylm-analysis/random_removal.csv\", \"w\") as f:\n",
    "    writer = csv.writer(f)\n",
    "    writer.writerow([\"sentence_idx\", \"sentence\"])\n",
    "    for row in removal_corpus:\n",
    "        writer.writerow(row)\n"
   ]
  },
  {
   "cell_type": "code",
   "execution_count": 19,
   "metadata": {},
   "outputs": [],
   "source": [
    "with open(\"../data/babylm-analysis/all_hypotheses.csv\", \"w\") as f:\n",
    "    writer = csv.writer(f)\n",
    "    writer.writerow([\"sentence_idx\", \"sentence\"])\n",
    "    for i in ids:\n",
    "        writer.writerow([i, corpus[i]])"
   ]
  },
  {
   "cell_type": "code",
   "execution_count": 21,
   "metadata": {},
   "outputs": [
    {
     "data": {
      "text/plain": [
       "10494865"
      ]
     },
     "execution_count": 21,
     "metadata": {},
     "output_type": "execute_result"
    }
   ],
   "source": [
    "len(corpus) - (2 * len(removal_corpus))"
   ]
  },
  {
   "cell_type": "code",
   "execution_count": null,
   "metadata": {},
   "outputs": [],
   "source": []
  }
 ],
 "metadata": {
  "kernelspec": {
   "display_name": "base",
   "language": "python",
   "name": "python3"
  },
  "language_info": {
   "codemirror_mode": {
    "name": "ipython",
    "version": 3
   },
   "file_extension": ".py",
   "mimetype": "text/x-python",
   "name": "python",
   "nbconvert_exporter": "python",
   "pygments_lexer": "ipython3",
   "version": "3.11.4"
  }
 },
 "nbformat": 4,
 "nbformat_minor": 2
}
